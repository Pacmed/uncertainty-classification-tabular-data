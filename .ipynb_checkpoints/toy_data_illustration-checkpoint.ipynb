{
 "cells": [
  {
   "cell_type": "code",
   "execution_count": null,
   "metadata": {},
   "outputs": [],
   "source": [
    "import unc_classification_tab_data.models.bootstrapped_classifier as bc\n",
    "import unc_classification_tab_data.models.nn_ensemble as nn\n",
    "import unc_classification_tab_data.models.vae as vae\n",
    "\n",
    "import numpy as np\n",
    "import pandas as pd\n",
    "import sklearn.utils\n",
    "from sklearn.model_selection import train_test_split\n",
    "from sklearn.linear_model import LogisticRegression\n",
    "\n",
    "import matplotlib.colors\n",
    "import matplotlib.pyplot as plt\n",
    "\n",
    "def generate_cluster(mean, diag_cov, size, frac_positive):\n",
    "    np.random.seed(42)\n",
    "    c = np.random.multivariate_normal(mean=mean, cov=[[diag_cov, 0],[0,diag_cov]], size=size)\n",
    "    c = np.expand_dims(c, 2)\n",
    "    y = np.random.choice([0,1], size=(c.shape[0], 1,1), p=[1-frac_positive, frac_positive])\n",
    "    c = np.concatenate([c, y], axis=1)\n",
    "    return c\n",
    "\n",
    "def plot_single_grid(X, y, xx, yy, grid, alpha=0.1, s=50, title='', uncertainty=True, \n",
    "                     colorbar=True, vmin=None, vmax=None):\n",
    "    if colorbar:\n",
    "        plt.figure(figsize=(6,5))\n",
    "    else:\n",
    "        plt.figure(figsize=(5,5))\n",
    "    if uncertainty:\n",
    "        cmap = plt.cm.Purples\n",
    "    else: \n",
    "        cmap = plt.cm.RdBu\n",
    "    c = plt.contourf(xx, yy, grid.reshape(xx.shape), cmap=cmap,\n",
    "                    levels=20, vmin=vmin, vmax=vmax)\n",
    "    if colorbar:\n",
    "        plt.colorbar(c)\n",
    "    plt.scatter(X[:, 0], X[:, 1], c=y, cmap=cm_bright,\n",
    "                edgecolors='k', alpha=alpha, s=s)\n",
    "    plt.axis('off')\n",
    "    plt.title(title)\n",
    "    \n",
    "def entropy(pk, axis):\n",
    "    return -np.sum(pk * np.log2(pk), axis=axis)"
   ]
  },
  {
   "cell_type": "markdown",
   "metadata": {},
   "source": [
    "## Data generation"
   ]
  },
  {
   "cell_type": "code",
   "execution_count": null,
   "metadata": {},
   "outputs": [],
   "source": [
    "positive_size, negative_size = 100, 100\n",
    "\n",
    "pos_mean = np.array([ 2, 2])\n",
    "neg_mean = np.array([-1,-1])\n",
    "\n",
    "pos_cluster = generate_cluster(pos_mean, 4, positive_size, frac_positive=1.0)\n",
    "neg_cluster = generate_cluster(neg_mean, 4, negative_size, frac_positive=0.0)\n",
    "concatenated = np.concatenate([pos_cluster, neg_cluster], axis=0)\n",
    "columns = ['f1', 'f2']\n",
    "label = 'label'\n",
    "df_model = pd.DataFrame(concatenated[:,:,0], columns=columns+[label])\n",
    "df_model = sklearn.utils.shuffle(df_model, random_state=1)\n",
    "\n",
    "X_train = df_model[columns].values\n",
    "y_train = df_model[label].values\n",
    "\n",
    "step_size = .1 \n",
    "x_min, x_max = -12,12\n",
    "y_min, y_max = -12,12\n",
    "\n",
    "xx, yy = np.meshgrid(np.arange(x_min, x_max, step_size),\n",
    "                     np.arange(y_min, y_max, step_size))\n",
    "\n",
    "X_grid = np.c_[xx.ravel(), yy.ravel()]\n"
   ]
  },
  {
   "cell_type": "code",
   "execution_count": null,
   "metadata": {},
   "outputs": [],
   "source": [
    "np.random.seed(42)\n",
    "lr_model = bc.BootstrappedClassifier(LogisticRegression(solver='lbfgs'),\n",
    "                                     n_bootstraps=5, bootstrap_size=100)\n",
    "\n",
    "lr_model.fit(X_train ,y_train)\n",
    "\n",
    "grid_probas = lr_model.predict_proba(X_grid)\n",
    "grid_uncertainties = entropy(grid_probas, axis=1)\n",
    "plot_single_grid(X_train, y_train, xx, yy, grid_probas[:,1], uncertainty=False, alpha=0.5, colorbar=True)\n",
    "plot_single_grid(X_train, y_train, xx, yy, grid_uncertainties, uncertainty=True, alpha=0.5, colorbar=True)"
   ]
  },
  {
   "cell_type": "code",
   "execution_count": null,
   "metadata": {},
   "outputs": [],
   "source": [
    "model_params = {'hidden_sizes': [5,5],\n",
    "                'dropout_rate': 0.0,\n",
    "                'input_size': 2,\n",
    "                'batch_norm': False}\n",
    "\n",
    "\n",
    "training_params = {'batch_size':8,\n",
    "                   'n_epochs':20,\n",
    "                   'early_stopping':False}\n",
    "\n",
    "nn_model = nn.NNEnsemble(n_models=5, model_params = model_params)\n",
    "nn_model.train(X_train, y_train, X_train, y_train, training_params)\n"
   ]
  },
  {
   "cell_type": "code",
   "execution_count": null,
   "metadata": {},
   "outputs": [],
   "source": [
    "grid_probas = nn_model.predict_proba(X_grid)\n",
    "grid_uncertainties = entropy(grid_probas, axis=1)\n",
    "plot_single_grid(X_train, y_train, xx, yy, grid_probas[:,1], uncertainty=False, alpha=0.5, colorbar=True)\n",
    "plot_single_grid(X_train, y_train, xx, yy, grid_uncertainties, uncertainty=True, alpha=0.5, colorbar=True)"
   ]
  },
  {
   "cell_type": "markdown",
   "metadata": {},
   "source": []
  }
 ],
 "metadata": {
  "kernelspec": {
   "display_name": "Python 3",
   "language": "python",
   "name": "python3"
  },
  "language_info": {
   "codemirror_mode": {
    "name": "ipython",
    "version": 3
   },
   "file_extension": ".py",
   "mimetype": "text/x-python",
   "name": "python",
   "nbconvert_exporter": "python",
   "pygments_lexer": "ipython3"
  }
 },
 "nbformat": 4,
 "nbformat_minor": 4
}
